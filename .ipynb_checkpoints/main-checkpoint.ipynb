{
 "cells": [
  {
   "cell_type": "code",
   "execution_count": null,
   "id": "01a9758c-6670-4ea9-8e5d-68fff235a89e",
   "metadata": {
    "tags": []
   },
   "outputs": [
    {
     "name": "stdout",
     "output_type": "stream",
     "text": [
      " * Serving Flask app \"__main__\" (lazy loading)\n",
      " * Environment: production\n",
      "\u001b[31m   WARNING: This is a development server. Do not use it in a production deployment.\u001b[0m\n",
      "\u001b[2m   Use a production WSGI server instead.\u001b[0m\n",
      " * Debug mode: off\n"
     ]
    },
    {
     "name": "stderr",
     "output_type": "stream",
     "text": [
      " * Running on http://127.0.0.1:5000/ (Press CTRL+C to quit)\n",
      "127.0.0.1 - - [11/May/2023 16:55:53] \"GET / HTTP/1.1\" 200 -\n",
      "127.0.0.1 - - [11/May/2023 16:55:54] \"GET /static/3a1744a7071a77acf1161a0bb6bcbec2.mp4 HTTP/1.1\" 206 -\n"
     ]
    },
    {
     "name": "stdout",
     "output_type": "stream",
     "text": [
      "1/1 [==============================] - 10s 10s/step\n",
      "1/1 [==============================] - 0s 131ms/step\n",
      "1/1 [==============================] - 0s 93ms/step\n",
      "1/1 [==============================] - 0s 78ms/step\n",
      "1/1 [==============================] - 0s 70ms/step\n",
      "1/1 [==============================] - 0s 103ms/step\n",
      "1/1 [==============================] - 0s 76ms/step\n",
      "1/1 [==============================] - 0s 81ms/step\n",
      "1/1 [==============================] - 0s 75ms/step\n",
      "1/1 [==============================] - 0s 64ms/step\n",
      "1/1 [==============================] - 0s 79ms/step\n",
      "1/1 [==============================] - 0s 73ms/step\n",
      "1/1 [==============================] - 0s 81ms/step\n",
      "['sad', 'sad', 'sad', 'sad', 'sad', 'sad', 'sad', 'sad', 'sad', 'sad', 'sad', 'sad', 'sad']\n"
     ]
    },
    {
     "name": "stderr",
     "output_type": "stream",
     "text": [
      "127.0.0.1 - - [11/May/2023 16:57:08] \"GET /predict HTTP/1.1\" 200 -\n",
      "127.0.0.1 - - [11/May/2023 16:57:09] \"GET /wall_sad.jpg HTTP/1.1\" 404 -\n",
      "127.0.0.1 - - [11/May/2023 16:57:09] \"GET /static/music/sad/08%20-%20Something%20Kinda%20Funny.mp3~RF296ce6.TMP HTTP/1.1\" 206 -\n",
      "127.0.0.1 - - [11/May/2023 16:57:10] \"GET /favicon.ico HTTP/1.1\" 404 -\n",
      "127.0.0.1 - - [11/May/2023 16:58:44] \"GET / HTTP/1.1\" 200 -\n",
      "127.0.0.1 - - [11/May/2023 16:58:55] \"GET /static/3a1744a7071a77acf1161a0bb6bcbec2.mp4 HTTP/1.1\" 206 -\n"
     ]
    },
    {
     "name": "stdout",
     "output_type": "stream",
     "text": [
      "1/1 [==============================] - 1s 1s/step\n",
      "1/1 [==============================] - 0s 80ms/step\n",
      "1/1 [==============================] - 0s 89ms/step\n",
      "1/1 [==============================] - 0s 85ms/step\n",
      "1/1 [==============================] - 0s 87ms/step\n",
      "1/1 [==============================] - 0s 73ms/step\n",
      "1/1 [==============================] - 0s 73ms/step\n",
      "1/1 [==============================] - 0s 64ms/step\n",
      "1/1 [==============================] - 0s 71ms/step\n",
      "1/1 [==============================] - 0s 111ms/step\n",
      "1/1 [==============================] - 0s 86ms/step\n",
      "1/1 [==============================] - 0s 83ms/step\n",
      "1/1 [==============================] - 0s 72ms/step\n",
      "['sad', 'sad', 'neutral', 'sad', 'neutral', 'sad', 'sad', 'sad', 'sad', 'sad', 'sad', 'sad', 'sad']\n"
     ]
    },
    {
     "name": "stderr",
     "output_type": "stream",
     "text": [
      "127.0.0.1 - - [11/May/2023 16:59:16] \"GET /predict HTTP/1.1\" 200 -\n",
      "127.0.0.1 - - [11/May/2023 16:59:16] \"GET /wall_sad.jpg HTTP/1.1\" 404 -\n",
      "127.0.0.1 - - [11/May/2023 16:59:17] \"GET /static/music/sad/07%20-%20A%20Groovy%20Kind%20Of%20Love.mp3 HTTP/1.1\" 206 -\n",
      "127.0.0.1 - - [11/May/2023 16:59:17] \"GET /favicon.ico HTTP/1.1\" 404 -\n"
     ]
    }
   ],
   "source": [
    "import os\n",
    "import cv2\n",
    "import random\n",
    "import numpy as np\n",
    "from keras.preprocessing import image\n",
    "import warnings\n",
    "warnings.filterwarnings(\"ignore\")\n",
    "from tensorflow.keras.utils import img_to_array\n",
    "from tensorflow.keras.utils import load_img\n",
    "from keras.models import  load_model\n",
    "import numpy as np\n",
    "import tensorflow as tf\n",
    "import statistics as st\n",
    "from flask import Flask, Response, render_template, send_file, redirect, url_for\n",
    "\n",
    "\n",
    "\n",
    "app = Flask(__name__)\n",
    "\n",
    "def gen():\n",
    "    i=0\n",
    "    GR_dict={0:(0,255,0),1:(0,0,255)}\n",
    "\n",
    "    model = tf.keras.models.load_model('final_model.h5')\n",
    "    faceCascade = cv2.CascadeClassifier('haarcascade_frontalface_default.xml')\n",
    "\n",
    "    output=[]\n",
    "    cap = cv2.VideoCapture(0)\n",
    "\n",
    "    while (i<=10):\n",
    "        ret, img = cap.read()\n",
    "    #gray = cv2.cvtColor(img,cv2.COLOR_BGR2GRAY)\n",
    "        faces = faceCascade.detectMultiScale(img,1.05,5)\n",
    "\n",
    "        for x,y,w,h in faces:\n",
    "\n",
    "            face_img = img[y:y+h,x:x+w] \n",
    "\n",
    "            resized = cv2.resize(face_img,(224,224))\n",
    "            reshaped=resized.reshape(1, 224,224,3)/255\n",
    "            predictions = model.predict(reshaped)\n",
    "\n",
    "        # find max indexed array\n",
    "            max_index = np.argmax(predictions[0])\n",
    "\n",
    "            emotions = ('angry', 'disgust', 'fear', 'happy', 'sad', 'neutral', 'surprise')\n",
    "            predicted_emotion = emotions[max_index]\n",
    "            output.append(predicted_emotion)\n",
    "            \n",
    "            \n",
    "            \n",
    "            cv2.rectangle(img,(x,y),(x+w,y+h),GR_dict[1],2)\n",
    "            cv2.rectangle(img,(x,y-40),(x+w,y),GR_dict[1],-1)\n",
    "            cv2.putText(img, predicted_emotion, (x, y-10),cv2.FONT_HERSHEY_SIMPLEX,0.8,(255,255,255),2)\n",
    "        i = i+1\n",
    "\n",
    "        cv2.imshow('LIVE', img)\n",
    "        key = cv2.waitKey(1)\n",
    "        if i == 20:\n",
    "            break\n",
    "    print(output)\n",
    "    cap.release()\n",
    "    cv2.destroyAllWindows()\n",
    "    global final_output\n",
    "    final_output = st.mode(output)\n",
    "    final_output\n",
    "    if final_output =='angry':\n",
    "        path = 'static/music/angry'\n",
    "        audio_files = os.listdir(path)\n",
    "        audio_file = random.choice(audio_files)\n",
    "        music = path +\"/\" + audio_file\n",
    "        return render_template('moviesAngry.html', music_file=music)\n",
    "    elif final_output =='happy':\n",
    "        path = 'static/music/happy'\n",
    "        audio_files = os.listdir(path)\n",
    "        audio_file = random.choice(audio_files)\n",
    "        music = path +\"/\" + audio_file\n",
    "        return render_template('moviesHappy.html', music_file=music)      \n",
    "    elif final_output =='sad':\n",
    "        path = 'static/music/sad'\n",
    "        audio_files = os.listdir(path)\n",
    "        audio_file = random.choice(audio_files)\n",
    "        music = path +\"/\" + audio_file\n",
    "        return render_template('moviesSad.html', music_file=music)      \n",
    "    elif final_output =='neutral':\n",
    "        path = 'static/music/neutral'\n",
    "        audio_files = os.listdir(path)\n",
    "        audio_file = random.choice(audio_files)\n",
    "        music = path +\"/\" + audio_file\n",
    "            \n",
    "\n",
    "@app.route('/')    \n",
    "def index():\n",
    "    return render_template(\"index.html\")\n",
    "\n",
    "@app.route('/predict')\n",
    "def predict():\n",
    "    return Response(gen())\n",
    "\n",
    "if __name__ == '__main__':\n",
    "    app.run(port=5000)\n"
   ]
  },
  {
   "cell_type": "code",
   "execution_count": null,
   "id": "58466914-a6d1-42ff-852f-1016ea461460",
   "metadata": {},
   "outputs": [],
   "source": []
  }
 ],
 "metadata": {
  "kernelspec": {
   "display_name": "Python 3 (ipykernel)",
   "language": "python",
   "name": "python3"
  },
  "language_info": {
   "codemirror_mode": {
    "name": "ipython",
    "version": 3
   },
   "file_extension": ".py",
   "mimetype": "text/x-python",
   "name": "python",
   "nbconvert_exporter": "python",
   "pygments_lexer": "ipython3",
   "version": "3.9.13"
  }
 },
 "nbformat": 4,
 "nbformat_minor": 5
}
